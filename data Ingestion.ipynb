{
 "cells": [
  {
   "cell_type": "code",
   "execution_count": 1,
   "metadata": {},
   "outputs": [],
   "source": [
    "#Task:\n",
    "#Take any csv/text file of 2+ GB of your choice. --- (You can do this assignment on Google colab)\n",
    "\n",
    "#Read the file ( Present approach of reading the file )\n",
    "\n",
    "#Try different methods of file reading eg: Dask, Modin, Ray, pandas and present your findings in term of computational efficiency\n",
    "\n",
    "#Perform basic validation on data columns : eg: remove special character , white spaces from the col name\n",
    "\n",
    "#As you already know the schema hence create a YAML file and write the column name in YAML file. --define separator of\n",
    "#read and write file, column name in YAML\n",
    "\n",
    "#Validate number of columns and column name of ingested file with YAML.\n",
    "\n",
    "#Write the file in pipe separated text file (|) in gz format.\n",
    "\n",
    "#Create a summary of the file:\n",
    "\n",
    "#Total number of rows,\n",
    "\n",
    "#total number of columns\n",
    "\n",
    "#file size"
   ]
  },
  {
   "cell_type": "code",
   "execution_count": 2,
   "metadata": {},
   "outputs": [],
   "source": [
    "# Take any csv/text file of 2+GB of your choice\n",
    "# I will start by  creating my own huge-sized dataframe with 20000000(20 million ) rows and 14 columns."
   ]
  },
  {
   "cell_type": "code",
   "execution_count": 3,
   "metadata": {},
   "outputs": [],
   "source": [
    "import pandas as pd\n",
    "import numpy as np"
   ]
  },
  {
   "cell_type": "code",
   "execution_count": 4,
   "metadata": {},
   "outputs": [],
   "source": [
    "df = pd.DataFrame(data=np.random.randint(99999, 99999999, size=(20000000,14)),columns=['C1','C2','C3','C4','C5','C6','C7','C8','C9','C10','C11','C12','C13','C14'])"
   ]
  },
  {
   "cell_type": "code",
   "execution_count": 5,
   "metadata": {},
   "outputs": [],
   "source": [
    "# The dataset contains 14 string columns with record of random strings."
   ]
  },
  {
   "cell_type": "code",
   "execution_count": 6,
   "metadata": {},
   "outputs": [
    {
     "data": {
      "text/plain": [
       "(20000000, 14)"
      ]
     },
     "execution_count": 6,
     "metadata": {},
     "output_type": "execute_result"
    }
   ],
   "source": [
    "df.shape"
   ]
  },
  {
   "cell_type": "code",
   "execution_count": 7,
   "metadata": {},
   "outputs": [
    {
     "data": {
      "text/html": [
       "<div>\n",
       "<style scoped>\n",
       "    .dataframe tbody tr th:only-of-type {\n",
       "        vertical-align: middle;\n",
       "    }\n",
       "\n",
       "    .dataframe tbody tr th {\n",
       "        vertical-align: top;\n",
       "    }\n",
       "\n",
       "    .dataframe thead th {\n",
       "        text-align: right;\n",
       "    }\n",
       "</style>\n",
       "<table border=\"1\" class=\"dataframe\">\n",
       "  <thead>\n",
       "    <tr style=\"text-align: right;\">\n",
       "      <th></th>\n",
       "      <th>C1</th>\n",
       "      <th>C2</th>\n",
       "      <th>C3</th>\n",
       "      <th>C4</th>\n",
       "      <th>C5</th>\n",
       "      <th>C6</th>\n",
       "      <th>C7</th>\n",
       "      <th>C8</th>\n",
       "      <th>C9</th>\n",
       "      <th>C10</th>\n",
       "      <th>C11</th>\n",
       "      <th>C12</th>\n",
       "      <th>C13</th>\n",
       "      <th>C14</th>\n",
       "    </tr>\n",
       "  </thead>\n",
       "  <tbody>\n",
       "    <tr>\n",
       "      <td>0</td>\n",
       "      <td>88969219</td>\n",
       "      <td>89690489</td>\n",
       "      <td>85762767</td>\n",
       "      <td>40268439</td>\n",
       "      <td>86762717</td>\n",
       "      <td>53725854</td>\n",
       "      <td>30717872</td>\n",
       "      <td>81810106</td>\n",
       "      <td>94213974</td>\n",
       "      <td>76111916</td>\n",
       "      <td>33102367</td>\n",
       "      <td>88778704</td>\n",
       "      <td>18177532</td>\n",
       "      <td>93274930</td>\n",
       "    </tr>\n",
       "    <tr>\n",
       "      <td>1</td>\n",
       "      <td>42109376</td>\n",
       "      <td>13441416</td>\n",
       "      <td>28385810</td>\n",
       "      <td>7208095</td>\n",
       "      <td>6593260</td>\n",
       "      <td>70358103</td>\n",
       "      <td>51482372</td>\n",
       "      <td>84673699</td>\n",
       "      <td>73867756</td>\n",
       "      <td>24404078</td>\n",
       "      <td>75343551</td>\n",
       "      <td>57158857</td>\n",
       "      <td>22455626</td>\n",
       "      <td>17871407</td>\n",
       "    </tr>\n",
       "    <tr>\n",
       "      <td>2</td>\n",
       "      <td>91733537</td>\n",
       "      <td>46567399</td>\n",
       "      <td>95799279</td>\n",
       "      <td>90452316</td>\n",
       "      <td>9546710</td>\n",
       "      <td>88432699</td>\n",
       "      <td>23387102</td>\n",
       "      <td>88906698</td>\n",
       "      <td>93573526</td>\n",
       "      <td>10402492</td>\n",
       "      <td>70555685</td>\n",
       "      <td>98749264</td>\n",
       "      <td>89520506</td>\n",
       "      <td>53985279</td>\n",
       "    </tr>\n",
       "    <tr>\n",
       "      <td>3</td>\n",
       "      <td>77196862</td>\n",
       "      <td>61045313</td>\n",
       "      <td>67290184</td>\n",
       "      <td>66928455</td>\n",
       "      <td>97201015</td>\n",
       "      <td>24743320</td>\n",
       "      <td>19636486</td>\n",
       "      <td>87273370</td>\n",
       "      <td>2846256</td>\n",
       "      <td>36564591</td>\n",
       "      <td>68390890</td>\n",
       "      <td>94682207</td>\n",
       "      <td>1395493</td>\n",
       "      <td>52751425</td>\n",
       "    </tr>\n",
       "    <tr>\n",
       "      <td>4</td>\n",
       "      <td>46177319</td>\n",
       "      <td>13104254</td>\n",
       "      <td>34592816</td>\n",
       "      <td>27305311</td>\n",
       "      <td>57539064</td>\n",
       "      <td>42976395</td>\n",
       "      <td>28598586</td>\n",
       "      <td>43182383</td>\n",
       "      <td>4689554</td>\n",
       "      <td>94100852</td>\n",
       "      <td>57642818</td>\n",
       "      <td>6515197</td>\n",
       "      <td>49330612</td>\n",
       "      <td>60674126</td>\n",
       "    </tr>\n",
       "  </tbody>\n",
       "</table>\n",
       "</div>"
      ],
      "text/plain": [
       "         C1        C2        C3        C4        C5        C6        C7  \\\n",
       "0  88969219  89690489  85762767  40268439  86762717  53725854  30717872   \n",
       "1  42109376  13441416  28385810   7208095   6593260  70358103  51482372   \n",
       "2  91733537  46567399  95799279  90452316   9546710  88432699  23387102   \n",
       "3  77196862  61045313  67290184  66928455  97201015  24743320  19636486   \n",
       "4  46177319  13104254  34592816  27305311  57539064  42976395  28598586   \n",
       "\n",
       "         C8        C9       C10       C11       C12       C13       C14  \n",
       "0  81810106  94213974  76111916  33102367  88778704  18177532  93274930  \n",
       "1  84673699  73867756  24404078  75343551  57158857  22455626  17871407  \n",
       "2  88906698  93573526  10402492  70555685  98749264  89520506  53985279  \n",
       "3  87273370   2846256  36564591  68390890  94682207   1395493  52751425  \n",
       "4  43182383   4689554  94100852  57642818   6515197  49330612  60674126  "
      ]
     },
     "execution_count": 7,
     "metadata": {},
     "output_type": "execute_result"
    }
   ],
   "source": [
    "df.head()"
   ]
  },
  {
   "cell_type": "code",
   "execution_count": 8,
   "metadata": {},
   "outputs": [],
   "source": [
    "# We need to store the data in CSV format\n",
    "df.to_csv(\"huge_data.csv\",index=False)"
   ]
  },
  {
   "cell_type": "code",
   "execution_count": 8,
   "metadata": {},
   "outputs": [
    {
     "name": "stdout",
     "output_type": "stream",
     "text": [
      "Overwriting testutility.py\n"
     ]
    }
   ],
   "source": [
    "%%writefile testutility.py\n",
    "import logging\n",
    "import os\n",
    "import subprocess\n",
    "import yaml\n",
    "import pandas as pd\n",
    "import datetime \n",
    "import gc\n",
    "import re\n",
    "\n",
    "\n",
    "################\n",
    "# File Reading #\n",
    "################\n",
    "\n",
    "def read_config_file(filepath):\n",
    "    with open(filepath, 'r') as stream:\n",
    "        try:\n",
    "            return yaml.safe_load(stream)\n",
    "        except yaml.YAMLError as exc:\n",
    "            logging.error(exc)\n",
    "\n",
    "\n",
    "def replacer(string, char):\n",
    "    pattern = char + '{2,}'\n",
    "    string = re.sub(pattern, char, string) \n",
    "    return string\n",
    "\n",
    "def col_header_val(df,table_config):\n",
    "    '''\n",
    "    replace whitespaces in the column\n",
    "    and standardized column names\n",
    "    '''\n",
    "    df.columns = df.columns.str.lower()\n",
    "    df.columns = df.columns.str.replace('[^\\w]','_',regex=True)\n",
    "    df.columns = list(map(lambda x: x.strip('_'), list(df.columns)))\n",
    "    df.columns = list(map(lambda x: replacer(x,'_'), list(df.columns)))\n",
    "    expected_col = list(map(lambda x: x.lower(),  table_config['columns']))\n",
    "    expected_col.sort()\n",
    "    df.columns =list(map(lambda x: x.lower(), list(df.columns)))\n",
    "    df = df.reindex(sorted(df.columns), axis=1)\n",
    "    if len(df.columns) == len(expected_col) and list(expected_col)  == list(df.columns):\n",
    "        print(\"column name and column length validation passed\")\n",
    "        return 1\n",
    "    else:\n",
    "        print(\"column name and column length validation failed\")\n",
    "        mismatched_columns_file = list(set(df.columns).difference(expected_col))\n",
    "        print(\"Following File columns are not in the YAML file\",mismatched_columns_file)\n",
    "        missing_YAML_file = list(set(expected_col).difference(df.columns))\n",
    "        print(\"Following YAML columns are not in the file uploaded\",missing_YAML_file)\n",
    "        logging.info(f'df columns: {df.columns}')\n",
    "        logging.info(f'expected columns: {expected_col}')\n",
    "        return 0"
   ]
  },
  {
   "cell_type": "code",
   "execution_count": 9,
   "metadata": {},
   "outputs": [
    {
     "name": "stdout",
     "output_type": "stream",
     "text": [
      "Overwriting file.yaml\n"
     ]
    }
   ],
   "source": [
    "%%writefile file.yaml\n",
    "file_type: csv\n",
    "dataset_name: hugefile\n",
    "file_name: huge_data\n",
    "table_name: edsurv\n",
    "inbound_delimiter: \",\"\n",
    "outbound_delimiter: \"|\"\n",
    "skip_leading_rows: 1\n",
    "columns: \n",
    "    - C14\n",
    "    - C15\n",
    "    - C16"
   ]
  },
  {
   "cell_type": "code",
   "execution_count": 10,
   "metadata": {},
   "outputs": [],
   "source": [
    "# Read config file\n",
    "import testutility as util\n",
    "config_data = util.read_config_file(\"file.yaml\")"
   ]
  },
  {
   "cell_type": "code",
   "execution_count": 11,
   "metadata": {},
   "outputs": [
    {
     "data": {
      "text/plain": [
       "','"
      ]
     },
     "execution_count": 11,
     "metadata": {},
     "output_type": "execute_result"
    }
   ],
   "source": [
    "config_data['inbound_delimiter']"
   ]
  },
  {
   "cell_type": "code",
   "execution_count": 12,
   "metadata": {},
   "outputs": [
    {
     "data": {
      "text/plain": [
       "{'file_type': 'csv',\n",
       " 'dataset_name': 'hugefile',\n",
       " 'file_name': 'huge_data',\n",
       " 'table_name': 'edsurv',\n",
       " 'inbound_delimiter': ',',\n",
       " 'outbound_delimiter': '|',\n",
       " 'skip_leading_rows': 1,\n",
       " 'columns': ['C14', 'C15', 'C16']}"
      ]
     },
     "execution_count": 12,
     "metadata": {},
     "output_type": "execute_result"
    }
   ],
   "source": [
    "#inspecting data of config file\n",
    "config_data"
   ]
  },
  {
   "cell_type": "code",
   "execution_count": 13,
   "metadata": {},
   "outputs": [
    {
     "data": {
      "text/html": [
       "<div>\n",
       "<style scoped>\n",
       "    .dataframe tbody tr th:only-of-type {\n",
       "        vertical-align: middle;\n",
       "    }\n",
       "\n",
       "    .dataframe tbody tr th {\n",
       "        vertical-align: top;\n",
       "    }\n",
       "\n",
       "    .dataframe thead th {\n",
       "        text-align: right;\n",
       "    }\n",
       "</style>\n",
       "<table border=\"1\" class=\"dataframe\">\n",
       "  <thead>\n",
       "    <tr style=\"text-align: right;\">\n",
       "      <th></th>\n",
       "      <th>C1</th>\n",
       "      <th>C2</th>\n",
       "      <th>C3</th>\n",
       "      <th>C4</th>\n",
       "      <th>C5</th>\n",
       "      <th>C6</th>\n",
       "      <th>C7</th>\n",
       "      <th>C8</th>\n",
       "      <th>C9</th>\n",
       "      <th>C10</th>\n",
       "      <th>C11</th>\n",
       "      <th>C12</th>\n",
       "      <th>C13</th>\n",
       "      <th>C14</th>\n",
       "    </tr>\n",
       "  </thead>\n",
       "  <tbody>\n",
       "    <tr>\n",
       "      <td>0</td>\n",
       "      <td>26273389</td>\n",
       "      <td>60601112</td>\n",
       "      <td>29221815</td>\n",
       "      <td>1416189</td>\n",
       "      <td>75314224</td>\n",
       "      <td>49176151</td>\n",
       "      <td>43130315</td>\n",
       "      <td>53149488</td>\n",
       "      <td>25336470</td>\n",
       "      <td>90051076</td>\n",
       "      <td>34806491</td>\n",
       "      <td>29170887</td>\n",
       "      <td>66146855</td>\n",
       "      <td>23005957</td>\n",
       "    </tr>\n",
       "    <tr>\n",
       "      <td>1</td>\n",
       "      <td>4918494</td>\n",
       "      <td>9194009</td>\n",
       "      <td>78959634</td>\n",
       "      <td>78737439</td>\n",
       "      <td>65704896</td>\n",
       "      <td>32451169</td>\n",
       "      <td>72612838</td>\n",
       "      <td>61095012</td>\n",
       "      <td>43156405</td>\n",
       "      <td>15568099</td>\n",
       "      <td>8000124</td>\n",
       "      <td>88893415</td>\n",
       "      <td>76234474</td>\n",
       "      <td>76731031</td>\n",
       "    </tr>\n",
       "    <tr>\n",
       "      <td>2</td>\n",
       "      <td>6269183</td>\n",
       "      <td>96262737</td>\n",
       "      <td>74869103</td>\n",
       "      <td>44073475</td>\n",
       "      <td>38863162</td>\n",
       "      <td>36216575</td>\n",
       "      <td>59620142</td>\n",
       "      <td>75983890</td>\n",
       "      <td>4748715</td>\n",
       "      <td>59078507</td>\n",
       "      <td>47491177</td>\n",
       "      <td>37189488</td>\n",
       "      <td>32678775</td>\n",
       "      <td>88675361</td>\n",
       "    </tr>\n",
       "    <tr>\n",
       "      <td>3</td>\n",
       "      <td>47144088</td>\n",
       "      <td>11727956</td>\n",
       "      <td>80480525</td>\n",
       "      <td>10523266</td>\n",
       "      <td>4741759</td>\n",
       "      <td>11328663</td>\n",
       "      <td>70280314</td>\n",
       "      <td>98468484</td>\n",
       "      <td>76187140</td>\n",
       "      <td>9118630</td>\n",
       "      <td>5214450</td>\n",
       "      <td>74775317</td>\n",
       "      <td>37429831</td>\n",
       "      <td>54974609</td>\n",
       "    </tr>\n",
       "    <tr>\n",
       "      <td>4</td>\n",
       "      <td>43573099</td>\n",
       "      <td>16615868</td>\n",
       "      <td>38826553</td>\n",
       "      <td>16263299</td>\n",
       "      <td>50898322</td>\n",
       "      <td>60338156</td>\n",
       "      <td>5082484</td>\n",
       "      <td>28830650</td>\n",
       "      <td>93134435</td>\n",
       "      <td>49207920</td>\n",
       "      <td>6658803</td>\n",
       "      <td>72340193</td>\n",
       "      <td>9066401</td>\n",
       "      <td>13437986</td>\n",
       "    </tr>\n",
       "  </tbody>\n",
       "</table>\n",
       "</div>"
      ],
      "text/plain": [
       "         C1        C2        C3        C4        C5        C6        C7  \\\n",
       "0  26273389  60601112  29221815   1416189  75314224  49176151  43130315   \n",
       "1   4918494   9194009  78959634  78737439  65704896  32451169  72612838   \n",
       "2   6269183  96262737  74869103  44073475  38863162  36216575  59620142   \n",
       "3  47144088  11727956  80480525  10523266   4741759  11328663  70280314   \n",
       "4  43573099  16615868  38826553  16263299  50898322  60338156   5082484   \n",
       "\n",
       "         C8        C9       C10       C11       C12       C13       C14  \n",
       "0  53149488  25336470  90051076  34806491  29170887  66146855  23005957  \n",
       "1  61095012  43156405  15568099   8000124  88893415  76234474  76731031  \n",
       "2  75983890   4748715  59078507  47491177  37189488  32678775  88675361  \n",
       "3  98468484  76187140   9118630   5214450  74775317  37429831  54974609  \n",
       "4  28830650  93134435  49207920   6658803  72340193   9066401  13437986  "
      ]
     },
     "execution_count": 13,
     "metadata": {},
     "output_type": "execute_result"
    }
   ],
   "source": [
    "# Normal reading process of the file\n",
    "import pandas as pd\n",
    "df_sample = pd.read_csv(\"huge_data.csv\",delimiter=',')\n",
    "df_sample.head()"
   ]
  },
  {
   "cell_type": "code",
   "execution_count": 15,
   "metadata": {},
   "outputs": [
    {
     "name": "stdout",
     "output_type": "stream",
     "text": [
      "2.337380526587367 GB\n"
     ]
    }
   ],
   "source": [
    "# The size of the file\n",
    "import os\n",
    "print(os.path.getsize('huge_data.csv')/1024/1024/1024 , \"GB\")"
   ]
  },
  {
   "cell_type": "code",
   "execution_count": 14,
   "metadata": {},
   "outputs": [
    {
     "name": "stdout",
     "output_type": "stream",
     "text": [
      "Read csv without chunks:  850.6296706199646 sec\n"
     ]
    }
   ],
   "source": [
    "# Reading csv without chunks.\n",
    "import time\n",
    "import pandas as pd\n",
    "start = time.time()\n",
    "df = pd.read_csv('huge_data.csv')\n",
    "end = time.time()\n",
    "print(\"Read csv without chunks: \",(end-start),\"sec\")"
   ]
  },
  {
   "cell_type": "code",
   "execution_count": 16,
   "metadata": {},
   "outputs": [
    {
     "name": "stdout",
     "output_type": "stream",
     "text": [
      "Wall time: 8 s\n"
     ]
    },
    {
     "data": {
      "text/plain": [
       "50046008.58555365"
      ]
     },
     "execution_count": 16,
     "metadata": {},
     "output_type": "execute_result"
    }
   ],
   "source": [
    "%%time\n",
    "df.iloc[:,1].mean()"
   ]
  },
  {
   "cell_type": "code",
   "execution_count": 17,
   "metadata": {},
   "outputs": [
    {
     "name": "stdout",
     "output_type": "stream",
     "text": [
      "Read csv with chunks:  0.9371664524078369 sec\n"
     ]
    }
   ],
   "source": [
    "# Reading csv with chunks.\n",
    "start = time.time()\n",
    "chunk = pd.read_csv('huge_data.csv',chunksize=1000000)\n",
    "end = time.time()\n",
    "print(\"Read csv with chunks: \",(end-start),\"sec\")\n",
    "pd_df = pd.concat(chunk)"
   ]
  },
  {
   "cell_type": "code",
   "execution_count": 18,
   "metadata": {},
   "outputs": [
    {
     "data": {
      "text/plain": [
       "pandas.io.parsers.TextFileReader"
      ]
     },
     "execution_count": 18,
     "metadata": {},
     "output_type": "execute_result"
    }
   ],
   "source": [
    "type(chunk)"
   ]
  },
  {
   "cell_type": "code",
   "execution_count": 19,
   "metadata": {},
   "outputs": [
    {
     "data": {
      "text/plain": [
       "pandas.core.frame.DataFrame"
      ]
     },
     "execution_count": 19,
     "metadata": {},
     "output_type": "execute_result"
    }
   ],
   "source": [
    "type(pd_df)"
   ]
  },
  {
   "cell_type": "code",
   "execution_count": 20,
   "metadata": {},
   "outputs": [
    {
     "name": "stdout",
     "output_type": "stream",
     "text": [
      "Wall time: 7.78 s\n"
     ]
    },
    {
     "data": {
      "text/plain": [
       "50046008.58555365"
      ]
     },
     "execution_count": 20,
     "metadata": {},
     "output_type": "execute_result"
    }
   ],
   "source": [
    "%%time\n",
    "pd_df.iloc[:,1].mean()"
   ]
  },
  {
   "cell_type": "code",
   "execution_count": 21,
   "metadata": {},
   "outputs": [
    {
     "name": "stderr",
     "output_type": "stream",
     "text": [
      "C:\\Users\\Nkululeko\\Anaconda3\\lib\\site-packages\\distributed\\utils.py:133: RuntimeWarning: Couldn't detect a suitable IP address for reaching '8.8.8.8', defaulting to '127.0.0.1': [WinError 10051] A socket operation was attempted to an unreachable network\n",
      "  RuntimeWarning,\n"
     ]
    }
   ],
   "source": [
    "from dask import dataframe as dd\n",
    "from dask.distributed import Client"
   ]
  },
  {
   "cell_type": "code",
   "execution_count": 22,
   "metadata": {},
   "outputs": [
    {
     "data": {
      "text/html": [
       "<table style=\"border: 2px solid white;\">\n",
       "<tr>\n",
       "<td style=\"vertical-align: top; border: 0px solid white\">\n",
       "<h3 style=\"text-align: left;\">Client</h3>\n",
       "<ul style=\"text-align: left; list-style: none; margin: 0; padding: 0;\">\n",
       "  <li><b>Scheduler: </b>inproc://127.0.0.1/13392/1</li>\n",
       "  <li><b>Dashboard: </b><a href='http://127.0.0.1/13392/1:8787/status' target='_blank'>http://127.0.0.1/13392/1:8787/status</a>\n",
       "</ul>\n",
       "</td>\n",
       "<td style=\"vertical-align: top; border: 0px solid white\">\n",
       "<h3 style=\"text-align: left;\">Cluster</h3>\n",
       "<ul style=\"text-align: left; list-style:none; margin: 0; padding: 0;\">\n",
       "  <li><b>Workers: </b>1</li>\n",
       "  <li><b>Cores: </b>2</li>\n",
       "  <li><b>Memory: </b>4.11 GB</li>\n",
       "</ul>\n",
       "</td>\n",
       "</tr>\n",
       "</table>"
      ],
      "text/plain": [
       "<Client: 'inproc://127.0.0.1/13392/1' processes=1 threads=2, memory=4.11 GB>"
      ]
     },
     "execution_count": 22,
     "metadata": {},
     "output_type": "execute_result"
    }
   ],
   "source": [
    "#dask.dataframe.read_csv()¶\n",
    "#Start Dask Client for Dashboard\n",
    "#It will provide a dashboard which is useful to gain insight on the computation.\n",
    "client = Client(processes=False)\n",
    "client"
   ]
  },
  {
   "cell_type": "code",
   "execution_count": 23,
   "metadata": {},
   "outputs": [
    {
     "name": "stdout",
     "output_type": "stream",
     "text": [
      "Read csv with dask:  8.047312021255493 sec\n"
     ]
    }
   ],
   "source": [
    "# Read csv with dask\n",
    "start = time.time()\n",
    "dask_df = dd.read_csv('huge_data.csv')\n",
    "end = time.time()\n",
    "print(\"Read csv with dask: \",(end-start),\"sec\")"
   ]
  },
  {
   "cell_type": "code",
   "execution_count": 24,
   "metadata": {},
   "outputs": [
    {
     "name": "stdout",
     "output_type": "stream",
     "text": [
      "Wall time: 2min 6s\n"
     ]
    },
    {
     "data": {
      "text/plain": [
       "50046008.58555365"
      ]
     },
     "execution_count": 24,
     "metadata": {},
     "output_type": "execute_result"
    }
   ],
   "source": [
    "%%time\n",
    "dask_df.iloc[:,1].mean().compute()"
   ]
  },
  {
   "cell_type": "code",
   "execution_count": 25,
   "metadata": {},
   "outputs": [],
   "source": [
    "# Dask performed much faster while reading large CSV prepared.\n",
    "#Even pandas can perform better while loading up in chunks via chunksize argument."
   ]
  },
  {
   "cell_type": "code",
   "execution_count": 26,
   "metadata": {},
   "outputs": [
    {
     "data": {
      "text/html": [
       "<div>\n",
       "<style scoped>\n",
       "    .dataframe tbody tr th:only-of-type {\n",
       "        vertical-align: middle;\n",
       "    }\n",
       "\n",
       "    .dataframe tbody tr th {\n",
       "        vertical-align: top;\n",
       "    }\n",
       "\n",
       "    .dataframe thead th {\n",
       "        text-align: right;\n",
       "    }\n",
       "</style>\n",
       "<table border=\"1\" class=\"dataframe\">\n",
       "  <thead>\n",
       "    <tr style=\"text-align: right;\">\n",
       "      <th></th>\n",
       "      <th>C1</th>\n",
       "      <th>C2</th>\n",
       "      <th>C3</th>\n",
       "      <th>C4</th>\n",
       "      <th>C5</th>\n",
       "      <th>C6</th>\n",
       "      <th>C7</th>\n",
       "      <th>C8</th>\n",
       "      <th>C9</th>\n",
       "      <th>C10</th>\n",
       "      <th>C11</th>\n",
       "      <th>C12</th>\n",
       "      <th>C13</th>\n",
       "      <th>C14</th>\n",
       "    </tr>\n",
       "  </thead>\n",
       "  <tbody>\n",
       "    <tr>\n",
       "      <td>0</td>\n",
       "      <td>26273389</td>\n",
       "      <td>60601112</td>\n",
       "      <td>29221815</td>\n",
       "      <td>1416189</td>\n",
       "      <td>75314224</td>\n",
       "      <td>49176151</td>\n",
       "      <td>43130315</td>\n",
       "      <td>53149488</td>\n",
       "      <td>25336470</td>\n",
       "      <td>90051076</td>\n",
       "      <td>34806491</td>\n",
       "      <td>29170887</td>\n",
       "      <td>66146855</td>\n",
       "      <td>23005957</td>\n",
       "    </tr>\n",
       "    <tr>\n",
       "      <td>1</td>\n",
       "      <td>4918494</td>\n",
       "      <td>9194009</td>\n",
       "      <td>78959634</td>\n",
       "      <td>78737439</td>\n",
       "      <td>65704896</td>\n",
       "      <td>32451169</td>\n",
       "      <td>72612838</td>\n",
       "      <td>61095012</td>\n",
       "      <td>43156405</td>\n",
       "      <td>15568099</td>\n",
       "      <td>8000124</td>\n",
       "      <td>88893415</td>\n",
       "      <td>76234474</td>\n",
       "      <td>76731031</td>\n",
       "    </tr>\n",
       "    <tr>\n",
       "      <td>2</td>\n",
       "      <td>6269183</td>\n",
       "      <td>96262737</td>\n",
       "      <td>74869103</td>\n",
       "      <td>44073475</td>\n",
       "      <td>38863162</td>\n",
       "      <td>36216575</td>\n",
       "      <td>59620142</td>\n",
       "      <td>75983890</td>\n",
       "      <td>4748715</td>\n",
       "      <td>59078507</td>\n",
       "      <td>47491177</td>\n",
       "      <td>37189488</td>\n",
       "      <td>32678775</td>\n",
       "      <td>88675361</td>\n",
       "    </tr>\n",
       "    <tr>\n",
       "      <td>3</td>\n",
       "      <td>47144088</td>\n",
       "      <td>11727956</td>\n",
       "      <td>80480525</td>\n",
       "      <td>10523266</td>\n",
       "      <td>4741759</td>\n",
       "      <td>11328663</td>\n",
       "      <td>70280314</td>\n",
       "      <td>98468484</td>\n",
       "      <td>76187140</td>\n",
       "      <td>9118630</td>\n",
       "      <td>5214450</td>\n",
       "      <td>74775317</td>\n",
       "      <td>37429831</td>\n",
       "      <td>54974609</td>\n",
       "    </tr>\n",
       "    <tr>\n",
       "      <td>4</td>\n",
       "      <td>43573099</td>\n",
       "      <td>16615868</td>\n",
       "      <td>38826553</td>\n",
       "      <td>16263299</td>\n",
       "      <td>50898322</td>\n",
       "      <td>60338156</td>\n",
       "      <td>5082484</td>\n",
       "      <td>28830650</td>\n",
       "      <td>93134435</td>\n",
       "      <td>49207920</td>\n",
       "      <td>6658803</td>\n",
       "      <td>72340193</td>\n",
       "      <td>9066401</td>\n",
       "      <td>13437986</td>\n",
       "    </tr>\n",
       "  </tbody>\n",
       "</table>\n",
       "</div>"
      ],
      "text/plain": [
       "         C1        C2        C3        C4        C5        C6        C7  \\\n",
       "0  26273389  60601112  29221815   1416189  75314224  49176151  43130315   \n",
       "1   4918494   9194009  78959634  78737439  65704896  32451169  72612838   \n",
       "2   6269183  96262737  74869103  44073475  38863162  36216575  59620142   \n",
       "3  47144088  11727956  80480525  10523266   4741759  11328663  70280314   \n",
       "4  43573099  16615868  38826553  16263299  50898322  60338156   5082484   \n",
       "\n",
       "         C8        C9       C10       C11       C12       C13       C14  \n",
       "0  53149488  25336470  90051076  34806491  29170887  66146855  23005957  \n",
       "1  61095012  43156405  15568099   8000124  88893415  76234474  76731031  \n",
       "2  75983890   4748715  59078507  47491177  37189488  32678775  88675361  \n",
       "3  98468484  76187140   9118630   5214450  74775317  37429831  54974609  \n",
       "4  28830650  93134435  49207920   6658803  72340193   9066401  13437986  "
      ]
     },
     "execution_count": 26,
     "metadata": {},
     "output_type": "execute_result"
    }
   ],
   "source": [
    "# read the file using config file\n",
    "file_type = config_data['file_type']\n",
    "source_file = \"./\" + config_data['file_name'] + f'.{file_type}'\n",
    "#print(\"\",source_file)\n",
    "df = pd.read_csv(source_file,config_data['inbound_delimiter'])\n",
    "df.head()"
   ]
  },
  {
   "cell_type": "code",
   "execution_count": 27,
   "metadata": {},
   "outputs": [
    {
     "name": "stdout",
     "output_type": "stream",
     "text": [
      "column name and column length validation failed\n",
      "Following File columns are not in the YAML file ['c5', 'c3', 'c10', 'c1', 'c7', 'c12', 'c4', 'c8', 'c6', 'c13', 'c2', 'c9', 'c11']\n",
      "Following YAML columns are not in the file uploaded ['c16', 'c15']\n"
     ]
    },
    {
     "data": {
      "text/plain": [
       "0"
      ]
     },
     "execution_count": 27,
     "metadata": {},
     "output_type": "execute_result"
    }
   ],
   "source": [
    "#validate the header of the file\n",
    "util.col_header_val(df,config_data)"
   ]
  },
  {
   "cell_type": "code",
   "execution_count": 28,
   "metadata": {},
   "outputs": [
    {
     "name": "stdout",
     "output_type": "stream",
     "text": [
      "columns of files are: Index(['c1', 'c2', 'c3', 'c4', 'c5', 'c6', 'c7', 'c8', 'c9', 'c10', 'c11',\n",
      "       'c12', 'c13', 'c14'],\n",
      "      dtype='object')\n",
      "columns of YAML are: ['C14', 'C15', 'C16']\n"
     ]
    }
   ],
   "source": [
    "print(\"columns of files are:\" ,df.columns)\n",
    "print(\"columns of YAML are:\" ,config_data['columns'])"
   ]
  },
  {
   "cell_type": "code",
   "execution_count": 29,
   "metadata": {},
   "outputs": [
    {
     "name": "stdout",
     "output_type": "stream",
     "text": [
      "column name and column length validation failed\n",
      "Following File columns are not in the YAML file ['c5', 'c3', 'c10', 'c1', 'c7', 'c12', 'c4', 'c8', 'c6', 'c13', 'c2', 'c9', 'c11']\n",
      "Following YAML columns are not in the file uploaded ['c16', 'c15']\n",
      "validation failed\n"
     ]
    }
   ],
   "source": [
    "if util.col_header_val(df,config_data)==0:\n",
    "    print(\"validation failed\")\n",
    "    # write code to reject the file\n",
    "else:\n",
    "    print(\"col validation passed\")\n",
    "    # write the code to perform further action\n",
    "    # in the pipleine"
   ]
  },
  {
   "cell_type": "code",
   "execution_count": 30,
   "metadata": {},
   "outputs": [
    {
     "name": "stderr",
     "output_type": "stream",
     "text": [
      "distributed.comm.inproc - WARNING - Closing dangling queue in <InProc  local=inproc://127.0.0.1/13392/10 remote=inproc://127.0.0.1/13392/1>\n"
     ]
    },
    {
     "data": {
      "text/html": [
       "<div>\n",
       "<style scoped>\n",
       "    .dataframe tbody tr th:only-of-type {\n",
       "        vertical-align: middle;\n",
       "    }\n",
       "\n",
       "    .dataframe tbody tr th {\n",
       "        vertical-align: top;\n",
       "    }\n",
       "\n",
       "    .dataframe thead th {\n",
       "        text-align: right;\n",
       "    }\n",
       "</style>\n",
       "<table border=\"1\" class=\"dataframe\">\n",
       "  <thead>\n",
       "    <tr style=\"text-align: right;\">\n",
       "      <th></th>\n",
       "      <th>C1</th>\n",
       "      <th>C2</th>\n",
       "      <th>C3</th>\n",
       "      <th>C4</th>\n",
       "      <th>C5</th>\n",
       "      <th>C6</th>\n",
       "      <th>C7</th>\n",
       "      <th>C8</th>\n",
       "      <th>C9</th>\n",
       "      <th>C10</th>\n",
       "      <th>C11</th>\n",
       "      <th>C12</th>\n",
       "      <th>C13</th>\n",
       "      <th>C14</th>\n",
       "    </tr>\n",
       "  </thead>\n",
       "  <tbody>\n",
       "    <tr>\n",
       "      <td>0</td>\n",
       "      <td>26273389</td>\n",
       "      <td>60601112</td>\n",
       "      <td>29221815</td>\n",
       "      <td>1416189</td>\n",
       "      <td>75314224</td>\n",
       "      <td>49176151</td>\n",
       "      <td>43130315</td>\n",
       "      <td>53149488</td>\n",
       "      <td>25336470</td>\n",
       "      <td>90051076</td>\n",
       "      <td>34806491</td>\n",
       "      <td>29170887</td>\n",
       "      <td>66146855</td>\n",
       "      <td>23005957</td>\n",
       "    </tr>\n",
       "    <tr>\n",
       "      <td>1</td>\n",
       "      <td>4918494</td>\n",
       "      <td>9194009</td>\n",
       "      <td>78959634</td>\n",
       "      <td>78737439</td>\n",
       "      <td>65704896</td>\n",
       "      <td>32451169</td>\n",
       "      <td>72612838</td>\n",
       "      <td>61095012</td>\n",
       "      <td>43156405</td>\n",
       "      <td>15568099</td>\n",
       "      <td>8000124</td>\n",
       "      <td>88893415</td>\n",
       "      <td>76234474</td>\n",
       "      <td>76731031</td>\n",
       "    </tr>\n",
       "    <tr>\n",
       "      <td>2</td>\n",
       "      <td>6269183</td>\n",
       "      <td>96262737</td>\n",
       "      <td>74869103</td>\n",
       "      <td>44073475</td>\n",
       "      <td>38863162</td>\n",
       "      <td>36216575</td>\n",
       "      <td>59620142</td>\n",
       "      <td>75983890</td>\n",
       "      <td>4748715</td>\n",
       "      <td>59078507</td>\n",
       "      <td>47491177</td>\n",
       "      <td>37189488</td>\n",
       "      <td>32678775</td>\n",
       "      <td>88675361</td>\n",
       "    </tr>\n",
       "    <tr>\n",
       "      <td>3</td>\n",
       "      <td>47144088</td>\n",
       "      <td>11727956</td>\n",
       "      <td>80480525</td>\n",
       "      <td>10523266</td>\n",
       "      <td>4741759</td>\n",
       "      <td>11328663</td>\n",
       "      <td>70280314</td>\n",
       "      <td>98468484</td>\n",
       "      <td>76187140</td>\n",
       "      <td>9118630</td>\n",
       "      <td>5214450</td>\n",
       "      <td>74775317</td>\n",
       "      <td>37429831</td>\n",
       "      <td>54974609</td>\n",
       "    </tr>\n",
       "    <tr>\n",
       "      <td>4</td>\n",
       "      <td>43573099</td>\n",
       "      <td>16615868</td>\n",
       "      <td>38826553</td>\n",
       "      <td>16263299</td>\n",
       "      <td>50898322</td>\n",
       "      <td>60338156</td>\n",
       "      <td>5082484</td>\n",
       "      <td>28830650</td>\n",
       "      <td>93134435</td>\n",
       "      <td>49207920</td>\n",
       "      <td>6658803</td>\n",
       "      <td>72340193</td>\n",
       "      <td>9066401</td>\n",
       "      <td>13437986</td>\n",
       "    </tr>\n",
       "    <tr>\n",
       "      <td>...</td>\n",
       "      <td>...</td>\n",
       "      <td>...</td>\n",
       "      <td>...</td>\n",
       "      <td>...</td>\n",
       "      <td>...</td>\n",
       "      <td>...</td>\n",
       "      <td>...</td>\n",
       "      <td>...</td>\n",
       "      <td>...</td>\n",
       "      <td>...</td>\n",
       "      <td>...</td>\n",
       "      <td>...</td>\n",
       "      <td>...</td>\n",
       "      <td>...</td>\n",
       "    </tr>\n",
       "    <tr>\n",
       "      <td>19999995</td>\n",
       "      <td>67797999</td>\n",
       "      <td>31343222</td>\n",
       "      <td>68847487</td>\n",
       "      <td>19367762</td>\n",
       "      <td>42881347</td>\n",
       "      <td>76526618</td>\n",
       "      <td>6384575</td>\n",
       "      <td>1434200</td>\n",
       "      <td>71243384</td>\n",
       "      <td>83238816</td>\n",
       "      <td>18929636</td>\n",
       "      <td>10303297</td>\n",
       "      <td>50639510</td>\n",
       "      <td>9628783</td>\n",
       "    </tr>\n",
       "    <tr>\n",
       "      <td>19999996</td>\n",
       "      <td>8249562</td>\n",
       "      <td>18935693</td>\n",
       "      <td>21614455</td>\n",
       "      <td>23260712</td>\n",
       "      <td>18287203</td>\n",
       "      <td>35427787</td>\n",
       "      <td>88951097</td>\n",
       "      <td>37457391</td>\n",
       "      <td>1278276</td>\n",
       "      <td>10656870</td>\n",
       "      <td>98763287</td>\n",
       "      <td>60189145</td>\n",
       "      <td>83306016</td>\n",
       "      <td>38997594</td>\n",
       "    </tr>\n",
       "    <tr>\n",
       "      <td>19999997</td>\n",
       "      <td>96036501</td>\n",
       "      <td>20851136</td>\n",
       "      <td>38206060</td>\n",
       "      <td>8942692</td>\n",
       "      <td>95875382</td>\n",
       "      <td>51279032</td>\n",
       "      <td>98224993</td>\n",
       "      <td>89714651</td>\n",
       "      <td>20875755</td>\n",
       "      <td>55446188</td>\n",
       "      <td>19520131</td>\n",
       "      <td>5707837</td>\n",
       "      <td>92780455</td>\n",
       "      <td>88832748</td>\n",
       "    </tr>\n",
       "    <tr>\n",
       "      <td>19999998</td>\n",
       "      <td>67989279</td>\n",
       "      <td>46072392</td>\n",
       "      <td>48402215</td>\n",
       "      <td>75983151</td>\n",
       "      <td>93141172</td>\n",
       "      <td>39346147</td>\n",
       "      <td>92170750</td>\n",
       "      <td>79740018</td>\n",
       "      <td>84917340</td>\n",
       "      <td>55952285</td>\n",
       "      <td>80066605</td>\n",
       "      <td>20526820</td>\n",
       "      <td>21412530</td>\n",
       "      <td>88615818</td>\n",
       "    </tr>\n",
       "    <tr>\n",
       "      <td>19999999</td>\n",
       "      <td>55932555</td>\n",
       "      <td>44525279</td>\n",
       "      <td>10010642</td>\n",
       "      <td>30645402</td>\n",
       "      <td>30632451</td>\n",
       "      <td>4379861</td>\n",
       "      <td>98468532</td>\n",
       "      <td>24043548</td>\n",
       "      <td>95632377</td>\n",
       "      <td>65377428</td>\n",
       "      <td>39767245</td>\n",
       "      <td>66112525</td>\n",
       "      <td>21743979</td>\n",
       "      <td>26580181</td>\n",
       "    </tr>\n",
       "  </tbody>\n",
       "</table>\n",
       "<p>20000000 rows × 14 columns</p>\n",
       "</div>"
      ],
      "text/plain": [
       "                C1        C2        C3        C4        C5        C6  \\\n",
       "0         26273389  60601112  29221815   1416189  75314224  49176151   \n",
       "1          4918494   9194009  78959634  78737439  65704896  32451169   \n",
       "2          6269183  96262737  74869103  44073475  38863162  36216575   \n",
       "3         47144088  11727956  80480525  10523266   4741759  11328663   \n",
       "4         43573099  16615868  38826553  16263299  50898322  60338156   \n",
       "...            ...       ...       ...       ...       ...       ...   \n",
       "19999995  67797999  31343222  68847487  19367762  42881347  76526618   \n",
       "19999996   8249562  18935693  21614455  23260712  18287203  35427787   \n",
       "19999997  96036501  20851136  38206060   8942692  95875382  51279032   \n",
       "19999998  67989279  46072392  48402215  75983151  93141172  39346147   \n",
       "19999999  55932555  44525279  10010642  30645402  30632451   4379861   \n",
       "\n",
       "                C7        C8        C9       C10       C11       C12  \\\n",
       "0         43130315  53149488  25336470  90051076  34806491  29170887   \n",
       "1         72612838  61095012  43156405  15568099   8000124  88893415   \n",
       "2         59620142  75983890   4748715  59078507  47491177  37189488   \n",
       "3         70280314  98468484  76187140   9118630   5214450  74775317   \n",
       "4          5082484  28830650  93134435  49207920   6658803  72340193   \n",
       "...            ...       ...       ...       ...       ...       ...   \n",
       "19999995   6384575   1434200  71243384  83238816  18929636  10303297   \n",
       "19999996  88951097  37457391   1278276  10656870  98763287  60189145   \n",
       "19999997  98224993  89714651  20875755  55446188  19520131   5707837   \n",
       "19999998  92170750  79740018  84917340  55952285  80066605  20526820   \n",
       "19999999  98468532  24043548  95632377  65377428  39767245  66112525   \n",
       "\n",
       "               C13       C14  \n",
       "0         66146855  23005957  \n",
       "1         76234474  76731031  \n",
       "2         32678775  88675361  \n",
       "3         37429831  54974609  \n",
       "4          9066401  13437986  \n",
       "...            ...       ...  \n",
       "19999995  50639510   9628783  \n",
       "19999996  83306016  38997594  \n",
       "19999997  92780455  88832748  \n",
       "19999998  21412530  88615818  \n",
       "19999999  21743979  26580181  \n",
       "\n",
       "[20000000 rows x 14 columns]"
      ]
     },
     "execution_count": 30,
     "metadata": {},
     "output_type": "execute_result"
    }
   ],
   "source": [
    "pd.read_csv(\"./huge_data.csv\")"
   ]
  },
  {
   "cell_type": "code",
   "execution_count": 31,
   "metadata": {},
   "outputs": [
    {
     "data": {
      "text/html": [
       "<div>\n",
       "<style scoped>\n",
       "    .dataframe tbody tr th:only-of-type {\n",
       "        vertical-align: middle;\n",
       "    }\n",
       "\n",
       "    .dataframe tbody tr th {\n",
       "        vertical-align: top;\n",
       "    }\n",
       "\n",
       "    .dataframe thead th {\n",
       "        text-align: right;\n",
       "    }\n",
       "</style>\n",
       "<table border=\"1\" class=\"dataframe\">\n",
       "  <thead>\n",
       "    <tr style=\"text-align: right;\">\n",
       "      <th></th>\n",
       "      <th>c1</th>\n",
       "      <th>c2</th>\n",
       "      <th>c3</th>\n",
       "      <th>c4</th>\n",
       "      <th>c5</th>\n",
       "      <th>c6</th>\n",
       "      <th>c7</th>\n",
       "      <th>c8</th>\n",
       "      <th>c9</th>\n",
       "      <th>c10</th>\n",
       "      <th>c11</th>\n",
       "      <th>c12</th>\n",
       "      <th>c13</th>\n",
       "      <th>c14</th>\n",
       "    </tr>\n",
       "  </thead>\n",
       "  <tbody>\n",
       "    <tr>\n",
       "      <td>0</td>\n",
       "      <td>26273389</td>\n",
       "      <td>60601112</td>\n",
       "      <td>29221815</td>\n",
       "      <td>1416189</td>\n",
       "      <td>75314224</td>\n",
       "      <td>49176151</td>\n",
       "      <td>43130315</td>\n",
       "      <td>53149488</td>\n",
       "      <td>25336470</td>\n",
       "      <td>90051076</td>\n",
       "      <td>34806491</td>\n",
       "      <td>29170887</td>\n",
       "      <td>66146855</td>\n",
       "      <td>23005957</td>\n",
       "    </tr>\n",
       "    <tr>\n",
       "      <td>1</td>\n",
       "      <td>4918494</td>\n",
       "      <td>9194009</td>\n",
       "      <td>78959634</td>\n",
       "      <td>78737439</td>\n",
       "      <td>65704896</td>\n",
       "      <td>32451169</td>\n",
       "      <td>72612838</td>\n",
       "      <td>61095012</td>\n",
       "      <td>43156405</td>\n",
       "      <td>15568099</td>\n",
       "      <td>8000124</td>\n",
       "      <td>88893415</td>\n",
       "      <td>76234474</td>\n",
       "      <td>76731031</td>\n",
       "    </tr>\n",
       "    <tr>\n",
       "      <td>2</td>\n",
       "      <td>6269183</td>\n",
       "      <td>96262737</td>\n",
       "      <td>74869103</td>\n",
       "      <td>44073475</td>\n",
       "      <td>38863162</td>\n",
       "      <td>36216575</td>\n",
       "      <td>59620142</td>\n",
       "      <td>75983890</td>\n",
       "      <td>4748715</td>\n",
       "      <td>59078507</td>\n",
       "      <td>47491177</td>\n",
       "      <td>37189488</td>\n",
       "      <td>32678775</td>\n",
       "      <td>88675361</td>\n",
       "    </tr>\n",
       "    <tr>\n",
       "      <td>3</td>\n",
       "      <td>47144088</td>\n",
       "      <td>11727956</td>\n",
       "      <td>80480525</td>\n",
       "      <td>10523266</td>\n",
       "      <td>4741759</td>\n",
       "      <td>11328663</td>\n",
       "      <td>70280314</td>\n",
       "      <td>98468484</td>\n",
       "      <td>76187140</td>\n",
       "      <td>9118630</td>\n",
       "      <td>5214450</td>\n",
       "      <td>74775317</td>\n",
       "      <td>37429831</td>\n",
       "      <td>54974609</td>\n",
       "    </tr>\n",
       "    <tr>\n",
       "      <td>4</td>\n",
       "      <td>43573099</td>\n",
       "      <td>16615868</td>\n",
       "      <td>38826553</td>\n",
       "      <td>16263299</td>\n",
       "      <td>50898322</td>\n",
       "      <td>60338156</td>\n",
       "      <td>5082484</td>\n",
       "      <td>28830650</td>\n",
       "      <td>93134435</td>\n",
       "      <td>49207920</td>\n",
       "      <td>6658803</td>\n",
       "      <td>72340193</td>\n",
       "      <td>9066401</td>\n",
       "      <td>13437986</td>\n",
       "    </tr>\n",
       "    <tr>\n",
       "      <td>...</td>\n",
       "      <td>...</td>\n",
       "      <td>...</td>\n",
       "      <td>...</td>\n",
       "      <td>...</td>\n",
       "      <td>...</td>\n",
       "      <td>...</td>\n",
       "      <td>...</td>\n",
       "      <td>...</td>\n",
       "      <td>...</td>\n",
       "      <td>...</td>\n",
       "      <td>...</td>\n",
       "      <td>...</td>\n",
       "      <td>...</td>\n",
       "      <td>...</td>\n",
       "    </tr>\n",
       "    <tr>\n",
       "      <td>19999995</td>\n",
       "      <td>67797999</td>\n",
       "      <td>31343222</td>\n",
       "      <td>68847487</td>\n",
       "      <td>19367762</td>\n",
       "      <td>42881347</td>\n",
       "      <td>76526618</td>\n",
       "      <td>6384575</td>\n",
       "      <td>1434200</td>\n",
       "      <td>71243384</td>\n",
       "      <td>83238816</td>\n",
       "      <td>18929636</td>\n",
       "      <td>10303297</td>\n",
       "      <td>50639510</td>\n",
       "      <td>9628783</td>\n",
       "    </tr>\n",
       "    <tr>\n",
       "      <td>19999996</td>\n",
       "      <td>8249562</td>\n",
       "      <td>18935693</td>\n",
       "      <td>21614455</td>\n",
       "      <td>23260712</td>\n",
       "      <td>18287203</td>\n",
       "      <td>35427787</td>\n",
       "      <td>88951097</td>\n",
       "      <td>37457391</td>\n",
       "      <td>1278276</td>\n",
       "      <td>10656870</td>\n",
       "      <td>98763287</td>\n",
       "      <td>60189145</td>\n",
       "      <td>83306016</td>\n",
       "      <td>38997594</td>\n",
       "    </tr>\n",
       "    <tr>\n",
       "      <td>19999997</td>\n",
       "      <td>96036501</td>\n",
       "      <td>20851136</td>\n",
       "      <td>38206060</td>\n",
       "      <td>8942692</td>\n",
       "      <td>95875382</td>\n",
       "      <td>51279032</td>\n",
       "      <td>98224993</td>\n",
       "      <td>89714651</td>\n",
       "      <td>20875755</td>\n",
       "      <td>55446188</td>\n",
       "      <td>19520131</td>\n",
       "      <td>5707837</td>\n",
       "      <td>92780455</td>\n",
       "      <td>88832748</td>\n",
       "    </tr>\n",
       "    <tr>\n",
       "      <td>19999998</td>\n",
       "      <td>67989279</td>\n",
       "      <td>46072392</td>\n",
       "      <td>48402215</td>\n",
       "      <td>75983151</td>\n",
       "      <td>93141172</td>\n",
       "      <td>39346147</td>\n",
       "      <td>92170750</td>\n",
       "      <td>79740018</td>\n",
       "      <td>84917340</td>\n",
       "      <td>55952285</td>\n",
       "      <td>80066605</td>\n",
       "      <td>20526820</td>\n",
       "      <td>21412530</td>\n",
       "      <td>88615818</td>\n",
       "    </tr>\n",
       "    <tr>\n",
       "      <td>19999999</td>\n",
       "      <td>55932555</td>\n",
       "      <td>44525279</td>\n",
       "      <td>10010642</td>\n",
       "      <td>30645402</td>\n",
       "      <td>30632451</td>\n",
       "      <td>4379861</td>\n",
       "      <td>98468532</td>\n",
       "      <td>24043548</td>\n",
       "      <td>95632377</td>\n",
       "      <td>65377428</td>\n",
       "      <td>39767245</td>\n",
       "      <td>66112525</td>\n",
       "      <td>21743979</td>\n",
       "      <td>26580181</td>\n",
       "    </tr>\n",
       "  </tbody>\n",
       "</table>\n",
       "<p>20000000 rows × 14 columns</p>\n",
       "</div>"
      ],
      "text/plain": [
       "                c1        c2        c3        c4        c5        c6  \\\n",
       "0         26273389  60601112  29221815   1416189  75314224  49176151   \n",
       "1          4918494   9194009  78959634  78737439  65704896  32451169   \n",
       "2          6269183  96262737  74869103  44073475  38863162  36216575   \n",
       "3         47144088  11727956  80480525  10523266   4741759  11328663   \n",
       "4         43573099  16615868  38826553  16263299  50898322  60338156   \n",
       "...            ...       ...       ...       ...       ...       ...   \n",
       "19999995  67797999  31343222  68847487  19367762  42881347  76526618   \n",
       "19999996   8249562  18935693  21614455  23260712  18287203  35427787   \n",
       "19999997  96036501  20851136  38206060   8942692  95875382  51279032   \n",
       "19999998  67989279  46072392  48402215  75983151  93141172  39346147   \n",
       "19999999  55932555  44525279  10010642  30645402  30632451   4379861   \n",
       "\n",
       "                c7        c8        c9       c10       c11       c12  \\\n",
       "0         43130315  53149488  25336470  90051076  34806491  29170887   \n",
       "1         72612838  61095012  43156405  15568099   8000124  88893415   \n",
       "2         59620142  75983890   4748715  59078507  47491177  37189488   \n",
       "3         70280314  98468484  76187140   9118630   5214450  74775317   \n",
       "4          5082484  28830650  93134435  49207920   6658803  72340193   \n",
       "...            ...       ...       ...       ...       ...       ...   \n",
       "19999995   6384575   1434200  71243384  83238816  18929636  10303297   \n",
       "19999996  88951097  37457391   1278276  10656870  98763287  60189145   \n",
       "19999997  98224993  89714651  20875755  55446188  19520131   5707837   \n",
       "19999998  92170750  79740018  84917340  55952285  80066605  20526820   \n",
       "19999999  98468532  24043548  95632377  65377428  39767245  66112525   \n",
       "\n",
       "               c13       c14  \n",
       "0         66146855  23005957  \n",
       "1         76234474  76731031  \n",
       "2         32678775  88675361  \n",
       "3         37429831  54974609  \n",
       "4          9066401  13437986  \n",
       "...            ...       ...  \n",
       "19999995  50639510   9628783  \n",
       "19999996  83306016  38997594  \n",
       "19999997  92780455  88832748  \n",
       "19999998  21412530  88615818  \n",
       "19999999  21743979  26580181  \n",
       "\n",
       "[20000000 rows x 14 columns]"
      ]
     },
     "execution_count": 31,
     "metadata": {},
     "output_type": "execute_result"
    }
   ],
   "source": [
    "df"
   ]
  },
  {
   "cell_type": "code",
   "execution_count": null,
   "metadata": {},
   "outputs": [],
   "source": []
  }
 ],
 "metadata": {
  "kernelspec": {
   "display_name": "Python 3",
   "language": "python",
   "name": "python3"
  },
  "language_info": {
   "codemirror_mode": {
    "name": "ipython",
    "version": 3
   },
   "file_extension": ".py",
   "mimetype": "text/x-python",
   "name": "python",
   "nbconvert_exporter": "python",
   "pygments_lexer": "ipython3",
   "version": "3.7.4"
  }
 },
 "nbformat": 4,
 "nbformat_minor": 2
}
